{
 "cells": [
  {
   "cell_type": "code",
   "execution_count": 1,
   "id": "5518a173",
   "metadata": {},
   "outputs": [],
   "source": [
    "import qiskit.circuit.library as cir_library\n",
    "from qiskit import transpile\n",
    "from qiskit.qasm2.export import dump\n",
    "\n",
    "for num_q in range(100,1100,100):\n",
    "    qft_cir = cir_library.QFT(num_qubits=num_q,approximation_degree=0, do_swaps=True, inverse=False, insert_barriers=False, name='qft')\n",
    "    qft_cz = transpile(qft_cir, basis_gates=['cz', 'rx', 'ry', 'rz', 'h', 't'])\n",
    "    dump(qft_cz, 'circuits/cz_2q_qft_{}.qasm'.format(num_q))"
   ]
  }
 ],
 "metadata": {
  "kernelspec": {
   "display_name": "Python 3 (ipykernel)",
   "language": "python",
   "name": "python3"
  },
  "language_info": {
   "codemirror_mode": {
    "name": "ipython",
    "version": 3
   },
   "file_extension": ".py",
   "mimetype": "text/x-python",
   "name": "python",
   "nbconvert_exporter": "python",
   "pygments_lexer": "ipython3",
   "version": "3.10.14"
  }
 },
 "nbformat": 4,
 "nbformat_minor": 5
}
