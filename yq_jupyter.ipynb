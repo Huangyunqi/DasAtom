{
 "cells": [
  {
   "cell_type": "code",
   "execution_count": 1,
   "id": "89fc3db2",
   "metadata": {},
   "outputs": [],
   "source": [
    "from naqst import *\n",
    "from openpyxl import Workbook\n",
    "import math\n",
    "import time\n",
    "from vfsexp import Vf\n",
    "from Enola.codegen import CodeGen, global_dict\n",
    "from Enola.route import QuantumRouter\n",
    "import json\n",
    "from qiskit.qasm2.export import dump"
   ]
  },
  {
   "cell_type": "code",
   "execution_count": 14,
   "id": "250a6b2f",
   "metadata": {},
   "outputs": [
    {
     "name": "stdout",
     "output_type": "stream",
     "text": [
      "Data/qft_cz/circuits/cz_2q_qft_12.qasm\n"
     ]
    }
   ],
   "source": [
    "path_type = 'qft_cz'\n",
    "path = \"Data/{}/circuits/\".format(path_type)\n",
    "path_embeddings = \"Data/{}/Rb2Re4/embeddings/\".format(path_type)\n",
    "path_partitions = \"Data/{}/Rb2Re4/partitions/\".format(path_type)\n",
    "file_name = 'cz_2q_qft_{}.qasm'.format(12)\n",
    "cz_circuit = CreateCircuitFromQASM(file_name, path)\n",
    "gate_2q_list = get_2q_gates_list(cz_circuit)\n",
    "cirr, dag = gates_list_to_QC(gate_2q_list)\n",
    "gate_num = len(gate_2q_list)\n",
    "num_q = qubits_num(gate_2q_list)\n",
    "Rb = 2\n",
    "r_re = 2*Rb\n",
    "arch_size = math.ceil(math.sqrt(num_q))\n",
    "coupling_graph = generate_grid_with_Rb(arch_size,arch_size, Rb)\n",
    "partition_gates = read_data(path_partitions, file_name.removesuffix(\".qasm\")+'.txt')\n",
    "embeddings = read_data(path_embeddings, file_name.removesuffix(\".qasm\")+'.txt')"
   ]
  },
  {
   "cell_type": "code",
   "execution_count": 15,
   "id": "512ba5b3",
   "metadata": {},
   "outputs": [
    {
     "name": "stdout",
     "output_type": "stream",
     "text": [
      "[[3, 0], [2, 0], [2, 2], [1, 3], [0, 3], [0, 2], [0, 0], [2, 1], [1, 2], [1, 0], [1, 1], [0, 1]]\n",
      "[[3, 0], [2, 0], [2, 1], [1, 1], [1, 2], [0, 2], [0, 3], [1, 3], [0, 1], [2, 2], [1, 0], [3, 1]]\n",
      "[[2, 1], [1, 0], [1, 1], [0, 2], [0, 0], [0, 1], [1, 2], [2, 0], [3, 0], [2, 2], [0, 3], [3, 1]]\n",
      "[[0, 2], [0, 1], [1, 1], [0, 0], [0, 3], [2, 0], [3, 0], [1, 2], [1, 0], [1, 3], [2, 1], [2, 2]]\n"
     ]
    }
   ],
   "source": [
    "for emb in embeddings:\n",
    "    print(emb)"
   ]
  },
  {
   "cell_type": "code",
   "execution_count": 16,
   "id": "575663c2",
   "metadata": {},
   "outputs": [],
   "source": [
    "parallel_gates = []\n",
    "time_paral = time.time()\n",
    "for i in range(len(partition_gates)):\n",
    "    gates = get_parallel_gates(partition_gates[i], coupling_graph, embeddings[i], r_re)\n",
    "    parallel_gates.append(gates)"
   ]
  },
  {
   "cell_type": "code",
   "execution_count": 17,
   "id": "24025cac",
   "metadata": {},
   "outputs": [],
   "source": [
    "route = QuantumRouter(num_q, embeddings, partition_gates, [arch_size, arch_size])\n",
    "route.run()\n",
    "all_movements = route.movement_list"
   ]
  },
  {
   "cell_type": "code",
   "execution_count": 18,
   "id": "e9008f99",
   "metadata": {},
   "outputs": [
    {
     "name": "stdout",
     "output_type": "stream",
     "text": [
      "...\n",
      "[[9, (1, 0), (2, 2)]]\n",
      "[[6, (0, 0), (0, 3)]]\n",
      "[[11, (0, 1), (3, 1)]]\n",
      "[[8, (1, 2), (0, 1)], [2, (2, 2), (2, 1)]]\n",
      "[[7, (2, 1), (1, 3)]]\n",
      "[[4, (0, 3), (1, 2)]]\n",
      "[[3, (1, 3), (1, 1)], [10, (1, 1), (1, 0)]]\n",
      "...\n",
      "[[4, (1, 2), (0, 0)]]\n",
      "[[7, (1, 3), (2, 0)]]\n",
      "[[8, (0, 1), (3, 0)]]\n",
      "[[10, (1, 0), (0, 3)]]\n",
      "[[0, (3, 0), (2, 1)], [6, (0, 3), (1, 2)]]\n",
      "[[3, (1, 1), (0, 2)], [1, (2, 0), (1, 0)]]\n",
      "[[5, (0, 2), (0, 1)]]\n",
      "[[2, (2, 1), (1, 1)]]\n",
      "...\n",
      "[[5, (0, 1), (2, 0)], [10, (0, 3), (2, 1)]]\n",
      "[[7, (2, 0), (1, 2)], [9, (2, 2), (1, 3)]]\n",
      "[[4, (0, 0), (0, 3)]]\n",
      "[[8, (3, 0), (1, 0)], [0, (2, 1), (0, 2)]]\n",
      "[[6, (1, 2), (3, 0)], [3, (0, 2), (0, 0)]]\n",
      "[[11, (3, 1), (2, 2)], [1, (1, 0), (0, 1)]]\n"
     ]
    }
   ],
   "source": [
    "for moves in all_movements:\n",
    "    print(\"...\")\n",
    "    for paral in moves:\n",
    "        print(paral)"
   ]
  }
 ],
 "metadata": {
  "kernelspec": {
   "display_name": "Python 3 (ipykernel)",
   "language": "python",
   "name": "python3"
  },
  "language_info": {
   "codemirror_mode": {
    "name": "ipython",
    "version": 3
   },
   "file_extension": ".py",
   "mimetype": "text/x-python",
   "name": "python",
   "nbconvert_exporter": "python",
   "pygments_lexer": "ipython3",
   "version": "3.10.14"
  }
 },
 "nbformat": 4,
 "nbformat_minor": 5
}
