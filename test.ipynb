{
 "cells": [
  {
   "cell_type": "code",
   "execution_count": 1,
   "metadata": {},
   "outputs": [],
   "source": [
    "from naqst import *"
   ]
  },
  {
   "cell_type": "code",
   "execution_count": 2,
   "metadata": {},
   "outputs": [
    {
     "name": "stdout",
     "output_type": "stream",
     "text": [
      "qft_5.qasm\n"
     ]
    }
   ],
   "source": [
    "path = \"bench/\"\n",
    "files = os.listdir(path)\n",
    "file_name = files[0]\n",
    "print(file_name)\n"
   ]
  },
  {
   "cell_type": "code",
   "execution_count": 3,
   "metadata": {},
   "outputs": [
    {
     "name": "stdout",
     "output_type": "stream",
     "text": [
      "------------------------------\n",
      "final num is: 20\n",
      "[[(1, 1), (1, 2), (0, 1), (0, 2), (2, 1)], [-1, -1, (1, 1), (2, 0), (2, 1)]]\n",
      "[[(1, 1), (1, 2), (0, 1), (0, 2), (2, 1)], [(0, 0), (1, 2), (1, 1), (2, 0), (2, 1)]]\n"
     ]
    }
   ],
   "source": [
    "circuit = CreateCircuitFromQASM(file_name, path)\n",
    "#transform to cz-based circuit\n",
    "cz_circuit = transpile(circuit, basis_gates=['cz', 'rx', 'ry', 'rz', 'h', 't'])\n",
    "#cz gates list\n",
    "gate_2q_list = get_2q_gates_list(cz_circuit)\n",
    "#print(gate_2q_list)\n",
    "#obtain corresponding DAG\n",
    "_, dag = gates_list_to_QC(gate_2q_list)\n",
    "#gate_num = len(gate_2q_list)\n",
    "#obtain the qubits number\n",
    "num_q = qubits_num(gate_2q_list)\n",
    "#print(\"Num of gates\", gate_num)\n",
    "\n",
    "arch_size = 3\n",
    "Rb = math.sqrt(2)\n",
    "#obtain the corresponding coupling_graph \n",
    "coupling_graph = generate_grid_with_Rb(arch_size,arch_size, Rb)\n",
    "\n",
    "#obtain the gates partition\n",
    "partition_gates = parition_from_DAG(dag, coupling_graph)\n",
    "print(\"------------------------------\")\n",
    "part_gate_num = 0\n",
    "for gates in partition_gates:\n",
    "    part_gate_num += len(gates)\n",
    "    #print(gates)\n",
    "print(\"final num is:\", part_gate_num)\n",
    "\n",
    "#for each partition, find a proper embedding\n",
    "embeddings = []\n",
    "\n",
    "for i in range(len(partition_gates)):\n",
    "    tmp_graph = nx.Graph()\n",
    "    tmp_graph.add_edges_from(partition_gates[i])\n",
    "    next_embedding = get_rx_subg_mapping(tmp_graph, coupling_graph)\n",
    "    embeddings.append(map2list(next_embedding,num_q))\n",
    "print(embeddings)\n",
    "\n",
    "for i in range(len(embeddings)):\n",
    "    indices = [index for index, value in enumerate(embeddings[i]) if value == -1]\n",
    "    if indices:\n",
    "        if i != 0:\n",
    "            pre_map = embeddings[i-1]\n",
    "        else:\n",
    "            pre_map = []\n",
    "        if i != len(embeddings) -1:\n",
    "            post_map = embeddings[i+1]\n",
    "        else:\n",
    "            post_map = []\n",
    "        complete_mapping(embeddings[i], pre_map, post_map, indices, coupling_graph)\n",
    "\n",
    "print(embeddings)"
   ]
  }
 ],
 "metadata": {
  "kernelspec": {
   "display_name": ".venv",
   "language": "python",
   "name": "python3"
  },
  "language_info": {
   "codemirror_mode": {
    "name": "ipython",
    "version": 3
   },
   "file_extension": ".py",
   "mimetype": "text/x-python",
   "name": "python",
   "nbconvert_exporter": "python",
   "pygments_lexer": "ipython3",
   "version": "3.10.12"
  }
 },
 "nbformat": 4,
 "nbformat_minor": 2
}
